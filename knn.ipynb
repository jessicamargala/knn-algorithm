{
  "nbformat": 4,
  "nbformat_minor": 0,
  "metadata": {
    "colab": {
      "name": "knn.ipynb",
      "provenance": [],
      "collapsed_sections": [],
      "include_colab_link": true
    },
    "kernelspec": {
      "name": "python3",
      "display_name": "Python 3"
    },
    "language_info": {
      "name": "python"
    }
  },
  "cells": [
    {
      "cell_type": "markdown",
      "metadata": {
        "id": "view-in-github",
        "colab_type": "text"
      },
      "source": [
        "<a href=\"https://colab.research.google.com/github/jessicamargala/knn-algorithm/blob/main/knn.ipynb\" target=\"_parent\"><img src=\"https://colab.research.google.com/assets/colab-badge.svg\" alt=\"Open In Colab\"/></a>"
      ]
    },
    {
      "cell_type": "code",
      "metadata": {
        "id": "J4md3oSj7kUW",
        "colab": {
          "base_uri": "https://localhost:8080/",
          "height": 202
        },
        "outputId": "f1700c90-6090-4aca-ff55-8054af4bcb11"
      },
      "source": [
        "import numpy as np              # linear algebra\n",
        "import pandas as pd             # data processing, CSV file I/O (e.g. pd.read_csv)\n",
        "import matplotlib.pyplot as plt # for plotting and visualozing data\n",
        "# Import the data set\n",
        "fruits = pd.read_table('fruit_data_set.txt') \n",
        "\n",
        "df = pd.read_table('fruit_data_set.txt', delim_whitespace=True, names=('width','height','fruit_name'))\n",
        "df = df[['width', 'height', 'fruit_name']] # Taking a subset of columns\n",
        "df.head()\n",
        "\n"
      ],
      "execution_count": 2,
      "outputs": [
        {
          "output_type": "execute_result",
          "data": {
            "text/html": [
              "<div>\n",
              "<style scoped>\n",
              "    .dataframe tbody tr th:only-of-type {\n",
              "        vertical-align: middle;\n",
              "    }\n",
              "\n",
              "    .dataframe tbody tr th {\n",
              "        vertical-align: top;\n",
              "    }\n",
              "\n",
              "    .dataframe thead th {\n",
              "        text-align: right;\n",
              "    }\n",
              "</style>\n",
              "<table border=\"1\" class=\"dataframe\">\n",
              "  <thead>\n",
              "    <tr style=\"text-align: right;\">\n",
              "      <th></th>\n",
              "      <th>width</th>\n",
              "      <th>height</th>\n",
              "      <th>fruit_name</th>\n",
              "    </tr>\n",
              "  </thead>\n",
              "  <tbody>\n",
              "    <tr>\n",
              "      <th>192</th>\n",
              "      <td>8.4</td>\n",
              "      <td>7.3</td>\n",
              "      <td>apple</td>\n",
              "    </tr>\n",
              "    <tr>\n",
              "      <th>180</th>\n",
              "      <td>8.0</td>\n",
              "      <td>6.8</td>\n",
              "      <td>apple</td>\n",
              "    </tr>\n",
              "    <tr>\n",
              "      <th>176</th>\n",
              "      <td>7.4</td>\n",
              "      <td>7.2</td>\n",
              "      <td>apple</td>\n",
              "    </tr>\n",
              "    <tr>\n",
              "      <th>86</th>\n",
              "      <td>6.2</td>\n",
              "      <td>4.7</td>\n",
              "      <td>mandarin</td>\n",
              "    </tr>\n",
              "    <tr>\n",
              "      <th>84</th>\n",
              "      <td>6.0</td>\n",
              "      <td>4.6</td>\n",
              "      <td>mandarin</td>\n",
              "    </tr>\n",
              "  </tbody>\n",
              "</table>\n",
              "</div>"
            ],
            "text/plain": [
              "     width  height fruit_name\n",
              "192    8.4     7.3      apple\n",
              "180    8.0     6.8      apple\n",
              "176    7.4     7.2      apple\n",
              "86     6.2     4.7   mandarin\n",
              "84     6.0     4.6   mandarin"
            ]
          },
          "metadata": {},
          "execution_count": 2
        }
      ]
    },
    {
      "cell_type": "code",
      "metadata": {
        "id": "NZ_OLsA7ck7L",
        "colab": {
          "base_uri": "https://localhost:8080/",
          "height": 294
        },
        "outputId": "c71ba2d6-2dd5-4a30-ff4f-8ca00c3b24db"
      },
      "source": [
        "# Create data frame for fruit data and assign random colors to each category of fruit\n",
        "np.random.seed(seed=40)\n",
        "df = pd.read_table('fruit_data_set.txt', delim_whitespace=True, names=('width', 'height','fruit_name'))\n",
        "\n",
        "cmap = plt.cm.get_cmap('Spectral')\n",
        "color_dict = pd.Series({k:cmap(np.random.rand()) for k in df['fruit_name'].unique()})\n",
        "color_dict.name = 'color_dict'\n",
        "df = pd.merge(df, color_dict, how='left', left_on='fruit_name', right_index=True)\n",
        "\n",
        "# Produce a legend with the unique colors from the scatter and plot graph for visualization\n",
        "fig,ax = plt.subplots()\n",
        "for k,d in df.groupby(df['fruit_name']):\n",
        "    ax.scatter(d['height'], d['width'], s = 50, label=k )\n",
        "plt.legend(loc=2)\n",
        "plt.xlabel(\"Height\")\n",
        "plt.ylabel(\"Width\")\n",
        "plt.title(\"Different Types of Fruits\")\n",
        "plt.show()\n"
      ],
      "execution_count": 3,
      "outputs": [
        {
          "output_type": "display_data",
          "data": {
            "image/png": "[encoded data removed]",
            "text/plain": [
              "<Figure size 432x288 with 1 Axes>"
            ]
          },
          "metadata": {
            "needs_background": "light"
          }
        }
      ]
    },
    {
      "cell_type": "code",
      "metadata": {
        "id": "3NjQl6R1IBIT",
        "colab": {
          "base_uri": "https://localhost:8080/"
        },
        "outputId": "4d0bc133-df5e-4974-b48a-0c7730a53789"
      },
      "source": [
        "from math import sqrt\n",
        "# Helper functions to convert our data set into a usable source for our algorithm\n",
        "\n",
        "# Function to load our data into a list of data points (list of list)\n",
        "def load_data_set(filename):\n",
        "  file = open(filename, \"r\")\n",
        "  dataset = [(line.strip()).split() for line in file]\n",
        "  file.close() \n",
        "  return dataset\n",
        "\n",
        "dataset = load_data_set('fruit_data_set.txt')\n",
        "print(dataset)\n",
        "\n",
        "# Convert string column to float\n",
        "def str_column_to_float(dataset, column):\n",
        "\tfor row in dataset:\n",
        "\t\trow[column] = float(row[column].strip())\n",
        " \n",
        "# Convert string column to integer\n",
        "def str_column_to_int(dataset, column):\n",
        "\tclass_values = [row[column] for row in dataset]\n",
        "\tunique = set(class_values)\n",
        "\tlookup = dict()\n",
        "\tfor i, value in enumerate(unique):\n",
        "\t\tlookup[value] = i\n",
        "\t\tprint('[%s] => %d' % (value, i))\n",
        "\tfor row in dataset:\n",
        "\t\trow[column] = lookup[row[column]]\n",
        "\treturn lookup"
      ],
      "execution_count": 4,
      "outputs": [
        {
          "output_type": "stream",
          "name": "stdout",
          "text": [
            "[['192', '8.4', '7.3', 'apple'], ['180', '8', '6.8', 'apple'], ['176', '7.4', '7.2', 'apple'], ['86', '6.2', '4.7', 'mandarin'], ['84', '6', '4.6', 'mandarin'], ['80', '5.8', '4.3', 'mandarin'], ['80', '5.9', '4.3', 'mandarin'], ['76', '5.8', '4', 'mandarin'], ['178', '7.1', '7.8', 'apple'], ['172', '7.4', '7', 'apple'], ['166', '6.9', '7.3', 'apple'], ['172', '7.1', '7.6', 'apple'], ['154', '7', '7.1', 'apple'], ['164', '7.3', '7.7', 'apple'], ['152', '7.6', '7.3', 'apple'], ['156', '7.7', '7.1', 'apple'], ['156', '7.6', '7.5', 'apple'], ['168', '7.5', '7.6', 'apple'], ['162', '7.5', '7.1', 'apple'], ['162', '7.4', '7.2', 'apple'], ['160', '7.5', '7.5', 'apple'], ['156', '7.4', '7.4', 'apple'], ['140', '7.3', '7.1', 'apple'], ['170', '7.6', '7.9', 'apple'], ['342', '9', '9.4', 'orange'], ['356', '9.2', '9.2', 'orange'], ['362', '9.6', '9.2', 'orange'], ['204', '7.5', '9.2', 'orange'], ['140', '6.7', '7.1', 'orange'], ['160', '7', '7.4', 'orange'], ['158', '7.1', '7.5', 'orange'], ['210', '7.8', '8', 'orange'], ['164', '7.2', '7', 'orange'], ['190', '7.5', '8.1', 'orange'], ['142', '7.6', '7.8', 'orange'], ['150', '7.1', '7.9', 'orange'], ['160', '7.1', '7.6', 'orange'], ['154', '7.3', '7.3', 'orange'], ['158', '7.2', '7.8', 'orange'], ['144', '6.8', '7.4', 'orange'], ['154', '7.1', '7.5', 'orange'], ['180', '7.6', '8.2', 'orange'], ['154', '7.2', '7.2', 'orange'], ['194', '7.2', '10.3', 'lemon'], ['200', '7.3', '10.5', 'lemon'], ['186', '7.2', '9.2', 'lemon'], ['216', '7.3', '10.2', 'lemon'], ['196', '7.3', '9.7', 'lemon'], ['174', '7.3', '10.1', 'lemon'], ['132', '5.8', '8.7', 'lemon'], ['130', '6', '8.2', 'lemon'], ['116', '6', '7.5', 'lemon'], ['118', '5.9', '8', 'lemon'], ['120', '6', '8.4', 'lemon'], ['116', '6.1', '8.5', 'lemon'], ['116', '6.3', '7.7', 'lemon'], ['116', '5.9', '8.1', 'lemon'], ['152', '6.5', '8.5', 'lemon'], ['118', '6.1', '8.1', 'lemon']]\n"
          ]
        }
      ]
    },
    {
      "cell_type": "code",
      "metadata": {
        "id": "RAmuqkz5BWVU"
      },
      "source": [
        "# Step 1: Calculate the Euclidian distance between two rows in our dataset (two different data points)\n",
        "\n",
        "def get_distance(data1, data2):\n",
        "  \"\"\"Caluclates the distance between two vectors \n",
        "\n",
        "    Parameters\n",
        "    ----------\n",
        "    data1 : vector\n",
        "        A row from our data set\n",
        "    data2 : vector\n",
        "        A row from our data set\n",
        "\n",
        "    Returns\n",
        "    -------\n",
        "    sqrt(distance)\n",
        "        the euclidian distance between the two data points\n",
        "  \"\"\"\n",
        "  distance = 0.0\n",
        "  for i in range(len(data1)-1):\n",
        "    distance += (data1[i] - data2[i])**2\n",
        "  return sqrt(distance)"
      ],
      "execution_count": 5,
      "outputs": []
    },
    {
      "cell_type": "code",
      "metadata": {
        "id": "gXvMXLI-LQXh"
      },
      "source": [
        "# Step 2: Get Nearest Neighbors by sorting the distances in a non-decreasing fashion and select the first k neighbors\n",
        "\n",
        "def get_neighbors(train, test_data, k):\n",
        "  \"\"\"Locates the most similar neighbors by sorting by distances\n",
        "\n",
        "    Parameters\n",
        "    ----------\n",
        "    train : list\n",
        "        A list of rows containing pre-existing data to train algorithm \n",
        "    test_data : vector\n",
        "        A row of data that needs to be classified\n",
        "    k : int\n",
        "        The number of desired neighbors\n",
        "\n",
        "    Returns\n",
        "    -------\n",
        "    neighbors\n",
        "        the k closest training data points\n",
        "  \"\"\"\n",
        "  distances = list()                            # Initialize list of distances\n",
        "\n",
        "  for train_data in train:                      \n",
        "    dist = get_distance(test_data, train_data)  # Find distance between inputted test_data and every train_data in train\n",
        "    distances.append((train_data, dist))         # Add this distance to our list of distances\n",
        "\n",
        "  distances.sort(key=lambda tup: tup[1])        # Sort list of distances in non-decreasing fashion\n",
        "  neighbors = list()                            # Initialize list of neigboring points to test_data\n",
        "  \n",
        "  for i in range(k):\n",
        "    neighbors.append(distances[i][0])           # Add first k training data points according to their distances to list of neighboring points\n",
        "  return neighbors                              # Return the k closest training data points (already classfified points) to the test data point "
      ],
      "execution_count": 6,
      "outputs": []
    },
    {
      "cell_type": "code",
      "metadata": {
        "id": "4NY_ZfL6NfwR"
      },
      "source": [
        "# Step 3: Make predictions based on the k closest training data points from get_neigbors() function\n",
        "\n",
        "def predict(train, test_data, k):\n",
        "  \"\"\"Makes a classification prediction using k nearest neighbors\n",
        "\n",
        "    Parameters\n",
        "    ----------\n",
        "    train : list\n",
        "        A list of rows containing pre-existing data to train algorithm \n",
        "    test_data : vector\n",
        "        A row of data that needs to be classified\n",
        "    k : int\n",
        "        The number of desired neighbors\n",
        "\n",
        "    Returns\n",
        "    -------\n",
        "    prediction\n",
        "        the most represented class among the k nearest neighbors\n",
        "  \"\"\"\n",
        "  neighbors = get_neighbors(train, test_data, k)\n",
        "  classes = [data_point[-1] for data_point in neighbors]  # Sorted list of k closest training data points from get_neighbors()\n",
        "  print(f\"The {k} closest classes: {classes}\")\n",
        "  prediction = max(set(classes), key=classes.count)       # Take the class with the highest frequency\n",
        "  print(f\"The KNN algorithm classifies the data point {test_data} as a {prediction}\")\n",
        "                                      "
      ],
      "execution_count": 7,
      "outputs": []
    },
    {
      "cell_type": "code",
      "metadata": {
        "id": "doJfsnNndPOh"
      },
      "source": [
        "# Test the kNN on the Fruits dataset\n",
        "filename = 'fruit_data_set.txt'\n",
        "dataset = load_data_set(filename)\n"
      ],
      "execution_count": 8,
      "outputs": []
    },
    {
      "cell_type": "code",
      "metadata": {
        "id": "gZO0kTnX4YAB"
      },
      "source": [
        "from sklearn.model_selection import train_test_split\n",
        "# Making test set and train set\n",
        "\n",
        "x = df ['height']\n",
        "y = df ['width']\n",
        "# mass = df ['mass']\n",
        "label = df ['fruit_name']\n",
        "\n",
        "# Making test and train arrays using the method in sklearn package\n",
        "# Randomly assign test cases and train cases. \n",
        "# Choosing the test size to be 30% of the data therefor train would be 70% of the dataset\n",
        "# mass_train, mass_test, \n",
        "height_train, height_test, width_train, width_test, label_train, label_test = train_test_split (x , y , label, test_size = 0.3)\n",
        "\n"
      ],
      "execution_count": 9,
      "outputs": []
    },
    {
      "cell_type": "code",
      "metadata": {
        "id": "EJ9QZrHCBOmT"
      },
      "source": [
        "# Populating training data with the right values\n",
        "training_data = np.column_stack((width_train, height_train, label_train))\n",
        "\n",
        "# Populating the testing data \n",
        "testing_data = np.column_stack((width_test, height_test, label_test))"
      ],
      "execution_count": 10,
      "outputs": []
    },
    {
      "cell_type": "code",
      "metadata": {
        "id": "-7833jlL4GMT",
        "colab": {
          "base_uri": "https://localhost:8080/"
        },
        "outputId": "1af471a9-2034-4d05-ca32-1750458c29a2"
      },
      "source": [
        "# Ask user for the number of K\n",
        "k = 5\n",
        "\n",
        "k = input(\"Enter the value of k : \")\n",
        "\n",
        "k = int(k)\n"
      ],
      "execution_count": 11,
      "outputs": [
        {
          "name": "stdout",
          "output_type": "stream",
          "text": [
            "Enter the value of k : 5\n"
          ]
        }
      ]
    },
    {
      "cell_type": "code",
      "metadata": {
        "id": "ogvME7d4QoS7",
        "colab": {
          "base_uri": "https://localhost:8080/"
        },
        "outputId": "40f73d4b-cd09-44e6-837a-892b657b578c"
      },
      "source": [
        "import random \n",
        "for i in range (10):\n",
        "    predict(training_data, random.choice(testing_data), k)\n",
        "    print(\"\\n\")\n"
      ],
      "execution_count": 12,
      "outputs": [
        {
          "output_type": "stream",
          "name": "stdout",
          "text": [
            "The 5 closest classes: ['mandarin', 'mandarin', 'mandarin', 'orange', 'orange']\n",
            "The KNN algorithm classifies the data point [6.0 4.6 'mandarin'] as a mandarin\n",
            "\n",
            "\n",
            "The 5 closest classes: ['mandarin', 'mandarin', 'mandarin', 'orange', 'orange']\n",
            "The KNN algorithm classifies the data point [6.0 4.6 'mandarin'] as a mandarin\n",
            "\n",
            "\n",
            "The 5 closest classes: ['apple', 'orange', 'orange', 'apple', 'orange']\n",
            "The KNN algorithm classifies the data point [7.1 7.6 'orange'] as a orange\n",
            "\n",
            "\n",
            "The 5 closest classes: ['apple', 'apple', 'apple', 'apple', 'apple']\n",
            "The KNN algorithm classifies the data point [7.4 7.4 'apple'] as a apple\n",
            "\n",
            "\n",
            "The 5 closest classes: ['apple', 'apple', 'apple', 'apple', 'apple']\n",
            "The KNN algorithm classifies the data point [8.0 6.8 'apple'] as a apple\n",
            "\n",
            "\n",
            "The 5 closest classes: ['orange', 'apple', 'apple', 'apple', 'orange']\n",
            "The KNN algorithm classifies the data point [7.5 7.6 'apple'] as a apple\n",
            "\n",
            "\n",
            "The 5 closest classes: ['apple', 'orange', 'orange', 'apple', 'orange']\n",
            "The KNN algorithm classifies the data point [7.1 7.6 'orange'] as a orange\n",
            "\n",
            "\n",
            "The 5 closest classes: ['orange', 'orange', 'apple', 'orange', 'apple']\n",
            "The KNN algorithm classifies the data point [7.0 7.4 'orange'] as a orange\n",
            "\n",
            "\n",
            "The 5 closest classes: ['orange', 'orange', 'apple', 'orange', 'apple']\n",
            "The KNN algorithm classifies the data point [7.0 7.4 'orange'] as a orange\n",
            "\n",
            "\n",
            "The 5 closest classes: ['apple', 'apple', 'apple', 'apple', 'orange']\n",
            "The KNN algorithm classifies the data point [7.3 7.3 'orange'] as a apple\n",
            "\n",
            "\n"
          ]
        }
      ]
    },
    {
      "cell_type": "code",
      "metadata": {
        "id": "LAJPp6cuIMbO",
        "colab": {
          "base_uri": "https://localhost:8080/",
          "height": 1000
        },
        "outputId": "bfdca5ec-f0f6-4fd9-8b14-17048b5c4423"
      },
      "source": [
        "import random\n",
        "import numpy\n",
        "import time\n",
        "import matplotlib.pyplot as plt\n",
        "\n",
        "test = [156,\t7.7,\t7.1]\n",
        "data_size = []\n",
        "time_taken_for_that_data = []\n",
        "\n",
        "for i in range(10):\n",
        "  same_list = training_data\n",
        "  training_data = numpy.append(training_data, same_list, axis=0)\n",
        "  ##print('\\n\\n\\n\\n')\n",
        "  ##print(training_data)\n",
        "  ##print('\\n')\n",
        "  ##print(len(training_data))\n",
        "  ##print('\\n')\n",
        "  start_time = time.time()\n",
        "  # I have it so that it chooses an input in the test data at random but we could hardcode\n",
        "  # inputing the data is\n",
        "  predict(training_data, testing_data[0], k)\n",
        "  time_taken_for_that_data.append(time.time() - start_time)\n",
        "  ##print(\"--- %s seconds ---\" % (time.time() - start_time))\n",
        "  data_size.append(len(training_data))\n",
        "  ##print('\\n')\n",
        "  print(len(training_data));\n",
        "  print(data_size);\n",
        "\n",
        "x_data = data_size\n",
        "y_data = time_taken_for_that_data\n",
        "\n",
        "fig = plt.figure()\n",
        "ax = fig.add_subplot(1, 1, 1)\n",
        "ax.plot(x_data, y_data, label='time complexity')\n",
        "ax.set_xlabel('Size of the dataset')\n",
        "ax.set_ylabel('Time (s)')\n",
        "ax.set_title('Time Complexity')\n",
        "ax.legend()\n",
        "plt.show()\n"
      ],
      "execution_count": 13,
      "outputs": [
        {
          "output_type": "stream",
          "name": "stdout",
          "text": [
            "The 5 closest classes: ['mandarin', 'mandarin', 'mandarin', 'mandarin', 'mandarin']\n",
            "The KNN algorithm classifies the data point [5.9 4.3 'mandarin'] as a mandarin\n",
            "82\n",
            "[82]\n",
            "The 5 closest classes: ['mandarin', 'mandarin', 'mandarin', 'mandarin', 'mandarin']\n",
            "The KNN algorithm classifies the data point [5.9 4.3 'mandarin'] as a mandarin\n",
            "164\n",
            "[82, 164]\n",
            "The 5 closest classes: ['mandarin', 'mandarin', 'mandarin', 'mandarin', 'mandarin']\n",
            "The KNN algorithm classifies the data point [5.9 4.3 'mandarin'] as a mandarin\n",
            "328\n",
            "[82, 164, 328]\n",
            "The 5 closest classes: ['mandarin', 'mandarin', 'mandarin', 'mandarin', 'mandarin']\n",
            "The KNN algorithm classifies the data point [5.9 4.3 'mandarin'] as a mandarin\n",
            "656\n",
            "[82, 164, 328, 656]\n",
            "The 5 closest classes: ['mandarin', 'mandarin', 'mandarin', 'mandarin', 'mandarin']\n",
            "The KNN algorithm classifies the data point [5.9 4.3 'mandarin'] as a mandarin\n",
            "1312\n",
            "[82, 164, 328, 656, 1312]\n",
            "The 5 closest classes: ['mandarin', 'mandarin', 'mandarin', 'mandarin', 'mandarin']\n",
            "The KNN algorithm classifies the data point [5.9 4.3 'mandarin'] as a mandarin\n",
            "2624\n",
            "[82, 164, 328, 656, 1312, 2624]\n",
            "The 5 closest classes: ['mandarin', 'mandarin', 'mandarin', 'mandarin', 'mandarin']\n",
            "The KNN algorithm classifies the data point [5.9 4.3 'mandarin'] as a mandarin\n",
            "5248\n",
            "[82, 164, 328, 656, 1312, 2624, 5248]\n",
            "The 5 closest classes: ['mandarin', 'mandarin', 'mandarin', 'mandarin', 'mandarin']\n",
            "The KNN algorithm classifies the data point [5.9 4.3 'mandarin'] as a mandarin\n",
            "10496\n",
            "[82, 164, 328, 656, 1312, 2624, 5248, 10496]\n",
            "The 5 closest classes: ['mandarin', 'mandarin', 'mandarin', 'mandarin', 'mandarin']\n",
            "The KNN algorithm classifies the data point [5.9 4.3 'mandarin'] as a mandarin\n",
            "20992\n",
            "[82, 164, 328, 656, 1312, 2624, 5248, 10496, 20992]\n",
            "The 5 closest classes: ['mandarin', 'mandarin', 'mandarin', 'mandarin', 'mandarin']\n",
            "The KNN algorithm classifies the data point [5.9 4.3 'mandarin'] as a mandarin\n",
            "41984\n",
            "[82, 164, 328, 656, 1312, 2624, 5248, 10496, 20992, 41984]\n"
          ]
        },
        {
          "output_type": "display_data",
          "data": {
            "image/png": "[encoded data removed]",
            "text/plain": [
              "<Figure size 432x288 with 1 Axes>"
            ]
          },
          "metadata": {
            "needs_background": "light"
          }
        }
      ]
    }
  ]
}